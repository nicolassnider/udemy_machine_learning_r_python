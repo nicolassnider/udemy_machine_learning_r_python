{
 "metadata": {
  "language_info": {
   "codemirror_mode": {
    "name": "ipython",
    "version": 3
   },
   "file_extension": ".py",
   "mimetype": "text/x-python",
   "name": "python",
   "nbconvert_exporter": "python",
   "pygments_lexer": "ipython3",
   "version": "3.8.5-final"
  },
  "orig_nbformat": 2,
  "kernelspec": {
   "name": "python_defaultSpec_1598217238450",
   "display_name": "Python 3.8.5 64-bit"
  }
 },
 "nbformat": 4,
 "nbformat_minor": 2,
 "cells": [
  {
   "cell_type": "code",
   "execution_count": 3,
   "metadata": {
    "tags": []
   },
   "outputs": [
    {
     "output_type": "stream",
     "name": "stdout",
     "text": "(1,)\n(1, 2, 3, 4)\n(1, 2, 'e', 3.1415)\n(1, 2)\n1\ne\n[1, 2, 'e', 3.1415]\n(1, 2, 'e', 3.1415)\n('1', '2', '3', '4', '5', '6', '7', '8', '9', '10')\n"
    }
   ],
   "source": [
    "#Tuplas\n",
    "p1=(1,)\n",
    "p2=(1,2,3,4)\n",
    "p3=(1,2,'e',3.1415)\n",
    "print(p1)\n",
    "print(p2)\n",
    "print(p3)\n",
    "print(p3[0:2])\n",
    "a,b,c,d=p3\n",
    "print(a)\n",
    "print(c)\n",
    "#\n",
    "L4 = list(p3)\n",
    "print(L4)\n",
    "p5=tuple(L4)\n",
    "print(p5)\n",
    "#\n",
    "L=tuple(input('Escribe numeros separados por comas').split(','))\n",
    "print(L)\n",
    "\n",
    "\n"
   ]
  }
 ]
}